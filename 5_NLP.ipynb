{
 "cells": [
  {
   "cell_type": "code",
   "execution_count": 1,
   "metadata": {},
   "outputs": [],
   "source": [
    "import nltk\n",
    "import numpy as np\n",
    "import tensorflow as tf"
   ]
  },
  {
   "cell_type": "markdown",
   "metadata": {},
   "source": [
    "# NLP Tasks"
   ]
  },
  {
   "cell_type": "markdown",
   "metadata": {},
   "source": [
    "Text classification: Sentiment analysis, Spam filters, Author classification...\n",
    "\n",
    "Information retrieval, Question answering, Reading comprehension\n",
    "\n",
    "Summarization\n",
    "\n",
    "Translation"
   ]
  },
  {
   "cell_type": "code",
   "execution_count": 2,
   "metadata": {},
   "outputs": [],
   "source": [
    "# Как да представим текст като вектор от числа?"
   ]
  },
  {
   "cell_type": "code",
   "execution_count": 3,
   "metadata": {},
   "outputs": [
    {
     "data": {
      "text/plain": [
       "['Втората световна война е глобална война, продължила между 1939 и 1945 година.',\n",
       " 'Голямото мнозинство от страните в света, включително всички Велики сили, в един или друг момент се включват във войната, присъединявайки се към един от двата противопоставящи се военни съюза – Съюзниците и Оста.',\n",
       " 'Достига се до състояние на тотална война, в която пряко участват над 100 милиона души от повече от 30 страни.',\n",
       " 'Основните участници хвърлят целия си стопански, промишлен и научен потенциал във военното усилие, размивайки границите между граждански и военни ресурси.']"
      ]
     },
     "execution_count": 3,
     "metadata": {},
     "output_type": "execute_result"
    }
   ],
   "source": [
    "# Еми оказва се че тъпия подход е сравнително ефективен:\n",
    "# Bag of words\n",
    "\n",
    "example_text = [\n",
    "    \"Втората световна война е глобална война, продължила между 1939 и 1945 година.\",\n",
    "    \"Голямото мнозинство от страните в света, включително всички Велики сили, в един или друг момент се включват във войната, присъединявайки се към един от двата противопоставящи се военни съюза – Съюзниците и Оста.\",\n",
    "    \"Достига се до състояние на тотална война, в която пряко участват над 100 милиона души от повече от 30 страни.\",\n",
    "    \"Основните участници хвърлят целия си стопански, промишлен и научен потенциал във военното усилие, размивайки границите между граждански и военни ресурси.\"\n",
    "]\n",
    "example_text"
   ]
  },
  {
   "cell_type": "code",
   "execution_count": 4,
   "metadata": {},
   "outputs": [
    {
     "data": {
      "text/plain": [
       "['втората световна война е глобална война, продължила между 1939 и 1945 година.',\n",
       " 'голямото мнозинство от страните в света, включително всички велики сили, в един или друг момент се включват във войната, присъединявайки се към един от двата противопоставящи се военни съюза – съюзниците и оста.',\n",
       " 'достига се до състояние на тотална война, в която пряко участват над 100 милиона души от повече от 30 страни.',\n",
       " 'основните участници хвърлят целия си стопански, промишлен и научен потенциал във военното усилие, размивайки границите между граждански и военни ресурси.']"
      ]
     },
     "execution_count": 4,
     "metadata": {},
     "output_type": "execute_result"
    }
   ],
   "source": [
    "example_text = [x.lower() for x in example_text]\n",
    "example_text"
   ]
  },
  {
   "cell_type": "code",
   "execution_count": 5,
   "metadata": {},
   "outputs": [
    {
     "data": {
      "text/plain": [
       "[['втората',\n",
       "  'световна',\n",
       "  'война',\n",
       "  'е',\n",
       "  'глобална',\n",
       "  'война',\n",
       "  ',',\n",
       "  'продължила',\n",
       "  'между',\n",
       "  '1939',\n",
       "  'и',\n",
       "  '1945',\n",
       "  'година',\n",
       "  '.'],\n",
       " ['голямото',\n",
       "  'мнозинство',\n",
       "  'от',\n",
       "  'страните',\n",
       "  'в',\n",
       "  'света',\n",
       "  ',',\n",
       "  'включително',\n",
       "  'всички',\n",
       "  'велики',\n",
       "  'сили',\n",
       "  ',',\n",
       "  'в',\n",
       "  'един',\n",
       "  'или',\n",
       "  'друг',\n",
       "  'момент',\n",
       "  'се',\n",
       "  'включват',\n",
       "  'във',\n",
       "  'войната',\n",
       "  ',',\n",
       "  'присъединявайки',\n",
       "  'се',\n",
       "  'към',\n",
       "  'един',\n",
       "  'от',\n",
       "  'двата',\n",
       "  'противопоставящи',\n",
       "  'се',\n",
       "  'военни',\n",
       "  'съюза',\n",
       "  '–',\n",
       "  'съюзниците',\n",
       "  'и',\n",
       "  'оста',\n",
       "  '.'],\n",
       " ['достига',\n",
       "  'се',\n",
       "  'до',\n",
       "  'състояние',\n",
       "  'на',\n",
       "  'тотална',\n",
       "  'война',\n",
       "  ',',\n",
       "  'в',\n",
       "  'която',\n",
       "  'пряко',\n",
       "  'участват',\n",
       "  'над',\n",
       "  '100',\n",
       "  'милиона',\n",
       "  'души',\n",
       "  'от',\n",
       "  'повече',\n",
       "  'от',\n",
       "  '30',\n",
       "  'страни',\n",
       "  '.'],\n",
       " ['основните',\n",
       "  'участници',\n",
       "  'хвърлят',\n",
       "  'целия',\n",
       "  'си',\n",
       "  'стопански',\n",
       "  ',',\n",
       "  'промишлен',\n",
       "  'и',\n",
       "  'научен',\n",
       "  'потенциал',\n",
       "  'във',\n",
       "  'военното',\n",
       "  'усилие',\n",
       "  ',',\n",
       "  'размивайки',\n",
       "  'границите',\n",
       "  'между',\n",
       "  'граждански',\n",
       "  'и',\n",
       "  'военни',\n",
       "  'ресурси',\n",
       "  '.']]"
      ]
     },
     "execution_count": 5,
     "metadata": {},
     "output_type": "execute_result"
    }
   ],
   "source": [
    "example_text = [nltk.word_tokenize(x) for x in example_text]\n",
    "example_text"
   ]
  },
  {
   "cell_type": "code",
   "execution_count": 6,
   "metadata": {},
   "outputs": [
    {
     "data": {
      "text/plain": [
       "array([[0., 1., 0., 0., 0., 0., 0., 0., 0., 0., 0., 1., 2., 0., 1., 0.,\n",
       "        0., 1., 0., 0., 0., 1., 0., 1., 0., 0., 0., 0., 0., 0., 0., 0.,\n",
       "        0., 0., 0., 1., 0., 0., 0., 0., 0., 0., 0., 1., 0., 0., 0., 0.,\n",
       "        0., 0., 1., 0., 0., 1., 0., 0., 0., 0., 1., 0., 0., 0., 0., 0.,\n",
       "        0., 0., 0., 1., 0., 0.],\n",
       "       [0., 0., 0., 1., 2., 0., 0., 0., 1., 1., 3., 0., 0., 1., 0., 0.,\n",
       "        1., 1., 0., 0., 1., 0., 0., 0., 0., 0., 0., 0., 1., 0., 1., 0.,\n",
       "        0., 0., 0., 3., 1., 1., 0., 0., 2., 1., 1., 0., 0., 1., 0., 0.,\n",
       "        1., 2., 0., 0., 0., 0., 0., 1., 0., 0., 0., 0., 1., 1., 1., 1.,\n",
       "        1., 1., 0., 1., 1., 1.],\n",
       "       [0., 0., 1., 0., 1., 1., 0., 1., 0., 0., 1., 0., 1., 0., 0., 1.,\n",
       "        0., 0., 0., 1., 0., 0., 0., 0., 0., 0., 0., 1., 0., 1., 0., 0.,\n",
       "        1., 1., 1., 1., 0., 0., 0., 1., 0., 0., 0., 0., 0., 0., 1., 1.,\n",
       "        0., 2., 0., 0., 1., 0., 1., 0., 0., 0., 0., 0., 0., 0., 0., 0.,\n",
       "        0., 0., 0., 1., 0., 0.],\n",
       "       [1., 0., 0., 0., 0., 0., 1., 0., 0., 0., 0., 0., 0., 0., 1., 0.,\n",
       "        0., 2., 1., 0., 0., 0., 1., 0., 1., 1., 1., 0., 0., 0., 0., 1.,\n",
       "        0., 0., 0., 2., 0., 0., 1., 0., 0., 1., 0., 0., 1., 0., 0., 0.,\n",
       "        0., 0., 0., 1., 0., 0., 0., 0., 1., 1., 0., 1., 0., 0., 0., 0.,\n",
       "        0., 0., 1., 1., 1., 0.]])"
      ]
     },
     "execution_count": 6,
     "metadata": {},
     "output_type": "execute_result"
    }
   ],
   "source": [
    "# Ако ни се занимава можем да махнем препинателни знаци и стоп думи, но няма да го правим\n",
    "\n",
    "def vectorize(data):\n",
    "    all_words = set()\n",
    "    for x in data:\n",
    "        for y in x:\n",
    "            all_words.add(y)\n",
    "    word_to_num = {w:i for i, w in enumerate(all_words)}\n",
    "    ans = np.zeros((len(data), len(all_words)))\n",
    "    for i, x in enumerate(data):\n",
    "        for y in x:\n",
    "            ans[i, word_to_num[y]] += 1\n",
    "    return ans\n",
    "\n",
    "vectorize(example_text)"
   ]
  },
  {
   "cell_type": "code",
   "execution_count": 7,
   "metadata": {},
   "outputs": [],
   "source": [
    "# Недостатъци:\n",
    "# Дебело представяне (като нищо векторите ще станат с размер 50к)\n",
    "# Губи се реда на думите (което всъщност се оказва че не е чак толкова важно)"
   ]
  },
  {
   "cell_type": "code",
   "execution_count": 8,
   "metadata": {},
   "outputs": [
    {
     "data": {
      "text/plain": [
       "array([[0.        , 1.38629436, 0.        , 0.        , 0.        ,\n",
       "        0.        , 0.        , 0.        , 0.        , 0.        ,\n",
       "        0.        , 1.38629436, 1.38629436, 0.        , 0.69314718,\n",
       "        0.        , 0.        , 0.28768207, 0.        , 0.        ,\n",
       "        0.        , 1.38629436, 0.        , 1.38629436, 0.        ,\n",
       "        0.        , 0.        , 0.        , 0.        , 0.        ,\n",
       "        0.        , 0.        , 0.        , 0.        , 0.        ,\n",
       "        0.        , 0.        , 0.        , 0.        , 0.        ,\n",
       "        0.        , 0.        , 0.        , 1.38629436, 0.        ,\n",
       "        0.        , 0.        , 0.        , 0.        , 0.        ,\n",
       "        1.38629436, 0.        , 0.        , 1.38629436, 0.        ,\n",
       "        0.        , 0.        , 0.        , 1.38629436, 0.        ,\n",
       "        0.        , 0.        , 0.        , 0.        , 0.        ,\n",
       "        0.        , 0.        , 0.        , 0.        , 0.        ],\n",
       "       [0.        , 0.        , 0.        , 1.38629436, 1.38629436,\n",
       "        0.        , 0.        , 0.        , 1.38629436, 1.38629436,\n",
       "        2.07944154, 0.        , 0.        , 1.38629436, 0.        ,\n",
       "        0.        , 1.38629436, 0.28768207, 0.        , 0.        ,\n",
       "        1.38629436, 0.        , 0.        , 0.        , 0.        ,\n",
       "        0.        , 0.        , 0.        , 1.38629436, 0.        ,\n",
       "        1.38629436, 0.        , 0.        , 0.        , 0.        ,\n",
       "        0.        , 1.38629436, 1.38629436, 0.        , 0.        ,\n",
       "        2.77258872, 0.69314718, 1.38629436, 0.        , 0.        ,\n",
       "        1.38629436, 0.        , 0.        , 1.38629436, 1.38629436,\n",
       "        0.        , 0.        , 0.        , 0.        , 0.        ,\n",
       "        1.38629436, 0.        , 0.        , 0.        , 0.        ,\n",
       "        1.38629436, 1.38629436, 1.38629436, 1.38629436, 1.38629436,\n",
       "        1.38629436, 0.        , 0.        , 0.69314718, 1.38629436],\n",
       "       [0.        , 0.        , 1.38629436, 0.        , 0.69314718,\n",
       "        1.38629436, 0.        , 1.38629436, 0.        , 0.        ,\n",
       "        0.69314718, 0.        , 0.69314718, 0.        , 0.        ,\n",
       "        1.38629436, 0.        , 0.        , 0.        , 1.38629436,\n",
       "        0.        , 0.        , 0.        , 0.        , 0.        ,\n",
       "        0.        , 0.        , 1.38629436, 0.        , 1.38629436,\n",
       "        0.        , 0.        , 1.38629436, 1.38629436, 1.38629436,\n",
       "        0.        , 0.        , 0.        , 0.        , 1.38629436,\n",
       "        0.        , 0.        , 0.        , 0.        , 0.        ,\n",
       "        0.        , 1.38629436, 1.38629436, 0.        , 1.38629436,\n",
       "        0.        , 0.        , 1.38629436, 0.        , 1.38629436,\n",
       "        0.        , 0.        , 0.        , 0.        , 0.        ,\n",
       "        0.        , 0.        , 0.        , 0.        , 0.        ,\n",
       "        0.        , 0.        , 0.        , 0.        , 0.        ],\n",
       "       [1.38629436, 0.        , 0.        , 0.        , 0.        ,\n",
       "        0.        , 1.38629436, 0.        , 0.        , 0.        ,\n",
       "        0.        , 0.        , 0.        , 0.        , 0.69314718,\n",
       "        0.        , 0.        , 0.57536414, 1.38629436, 0.        ,\n",
       "        0.        , 0.        , 1.38629436, 0.        , 1.38629436,\n",
       "        1.38629436, 1.38629436, 0.        , 0.        , 0.        ,\n",
       "        0.        , 1.38629436, 0.        , 0.        , 0.        ,\n",
       "        0.        , 0.        , 0.        , 1.38629436, 0.        ,\n",
       "        0.        , 0.69314718, 0.        , 0.        , 1.38629436,\n",
       "        0.        , 0.        , 0.        , 0.        , 0.        ,\n",
       "        0.        , 1.38629436, 0.        , 0.        , 0.        ,\n",
       "        0.        , 1.38629436, 1.38629436, 0.        , 1.38629436,\n",
       "        0.        , 0.        , 0.        , 0.        , 0.        ,\n",
       "        0.        , 1.38629436, 0.        , 0.69314718, 0.        ]])"
      ]
     },
     "execution_count": 8,
     "metadata": {},
     "output_type": "execute_result"
    }
   ],
   "source": [
    "# Едно често използвано подобрение - TFIDF\n",
    "# По-редките думи са по-значими\n",
    "\n",
    "def tfidf(data):\n",
    "    all_words = set()\n",
    "    for x in data:\n",
    "        for y in x:\n",
    "            all_words.add(y)\n",
    "    word_to_num = {w:i for i, w in enumerate(all_words)}\n",
    "    \n",
    "    ans = np.zeros((len(data), len(all_words)))\n",
    "    df = np.zeros(len(all_words))\n",
    "    for i, x in enumerate(data):\n",
    "        for y in x:\n",
    "            num = word_to_num[y]\n",
    "            ans[i, num] += 1\n",
    "            if ans[i, num]==1:\n",
    "                df[num] += 1\n",
    "    ans = ans * np.log(len(data) / df)\n",
    "    return ans\n",
    "\n",
    "tfidf(example_text)"
   ]
  },
  {
   "cell_type": "code",
   "execution_count": 9,
   "metadata": {},
   "outputs": [],
   "source": [
    "# Естествено, по-полезно е с повече документи"
   ]
  },
  {
   "cell_type": "code",
   "execution_count": 10,
   "metadata": {},
   "outputs": [
    {
     "data": {
      "text/html": [
       "<div>\n",
       "<style scoped>\n",
       "    .dataframe tbody tr th:only-of-type {\n",
       "        vertical-align: middle;\n",
       "    }\n",
       "\n",
       "    .dataframe tbody tr th {\n",
       "        vertical-align: top;\n",
       "    }\n",
       "\n",
       "    .dataframe thead th {\n",
       "        text-align: right;\n",
       "    }\n",
       "</style>\n",
       "<table border=\"1\" class=\"dataframe\">\n",
       "  <thead>\n",
       "    <tr style=\"text-align: right;\">\n",
       "      <th></th>\n",
       "      <th>text</th>\n",
       "      <th>author</th>\n",
       "    </tr>\n",
       "    <tr>\n",
       "      <th>id</th>\n",
       "      <th></th>\n",
       "      <th></th>\n",
       "    </tr>\n",
       "  </thead>\n",
       "  <tbody>\n",
       "    <tr>\n",
       "      <th>id26305</th>\n",
       "      <td>This process, however, afforded me no means of...</td>\n",
       "      <td>EAP</td>\n",
       "    </tr>\n",
       "    <tr>\n",
       "      <th>id17569</th>\n",
       "      <td>It never once occurred to me that the fumbling...</td>\n",
       "      <td>HPL</td>\n",
       "    </tr>\n",
       "    <tr>\n",
       "      <th>id11008</th>\n",
       "      <td>In his left hand was a gold snuff box, from wh...</td>\n",
       "      <td>EAP</td>\n",
       "    </tr>\n",
       "    <tr>\n",
       "      <th>id27763</th>\n",
       "      <td>How lovely is spring As we looked from Windsor...</td>\n",
       "      <td>MWS</td>\n",
       "    </tr>\n",
       "    <tr>\n",
       "      <th>id12958</th>\n",
       "      <td>Finding nothing else, not even gold, the Super...</td>\n",
       "      <td>HPL</td>\n",
       "    </tr>\n",
       "    <tr>\n",
       "      <th>...</th>\n",
       "      <td>...</td>\n",
       "      <td>...</td>\n",
       "    </tr>\n",
       "    <tr>\n",
       "      <th>id17718</th>\n",
       "      <td>I could have fancied, while I looked at it, th...</td>\n",
       "      <td>EAP</td>\n",
       "    </tr>\n",
       "    <tr>\n",
       "      <th>id08973</th>\n",
       "      <td>The lids clenched themselves together as if in...</td>\n",
       "      <td>EAP</td>\n",
       "    </tr>\n",
       "    <tr>\n",
       "      <th>id05267</th>\n",
       "      <td>Mais il faut agir that is to say, a Frenchman ...</td>\n",
       "      <td>EAP</td>\n",
       "    </tr>\n",
       "    <tr>\n",
       "      <th>id17513</th>\n",
       "      <td>For an item of news like this, it strikes us i...</td>\n",
       "      <td>EAP</td>\n",
       "    </tr>\n",
       "    <tr>\n",
       "      <th>id00393</th>\n",
       "      <td>He laid a gnarled claw on my shoulder, and it ...</td>\n",
       "      <td>HPL</td>\n",
       "    </tr>\n",
       "  </tbody>\n",
       "</table>\n",
       "<p>19579 rows × 2 columns</p>\n",
       "</div>"
      ],
      "text/plain": [
       "                                                      text author\n",
       "id                                                               \n",
       "id26305  This process, however, afforded me no means of...    EAP\n",
       "id17569  It never once occurred to me that the fumbling...    HPL\n",
       "id11008  In his left hand was a gold snuff box, from wh...    EAP\n",
       "id27763  How lovely is spring As we looked from Windsor...    MWS\n",
       "id12958  Finding nothing else, not even gold, the Super...    HPL\n",
       "...                                                    ...    ...\n",
       "id17718  I could have fancied, while I looked at it, th...    EAP\n",
       "id08973  The lids clenched themselves together as if in...    EAP\n",
       "id05267  Mais il faut agir that is to say, a Frenchman ...    EAP\n",
       "id17513  For an item of news like this, it strikes us i...    EAP\n",
       "id00393  He laid a gnarled claw on my shoulder, and it ...    HPL\n",
       "\n",
       "[19579 rows x 2 columns]"
      ]
     },
     "execution_count": 10,
     "metadata": {},
     "output_type": "execute_result"
    }
   ],
   "source": [
    "import pandas as pd\n",
    "pd.options.display.max_rows = 10\n",
    "\n",
    "train = pd.read_csv('./train.csv', index_col='id')\n",
    "train"
   ]
  },
  {
   "cell_type": "code",
   "execution_count": 11,
   "metadata": {},
   "outputs": [
    {
     "data": {
      "text/plain": [
       "<19579x25068 sparse matrix of type '<class 'numpy.float64'>'\n",
       "\twith 429602 stored elements in Compressed Sparse Row format>"
      ]
     },
     "execution_count": 11,
     "metadata": {},
     "output_type": "execute_result"
    }
   ],
   "source": [
    "from sklearn.feature_extraction.text import TfidfVectorizer\n",
    "\n",
    "vectorizer = TfidfVectorizer()\n",
    "x_all = vectorizer.fit_transform(train.text)\n",
    "x_all"
   ]
  },
  {
   "cell_type": "code",
   "execution_count": 12,
   "metadata": {},
   "outputs": [
    {
     "data": {
      "text/plain": [
       "matrix([[0., 0., 0., ..., 0., 0., 0.],\n",
       "        [0., 0., 0., ..., 0., 0., 0.],\n",
       "        [0., 0., 0., ..., 0., 0., 0.],\n",
       "        ...,\n",
       "        [0., 0., 0., ..., 0., 0., 0.],\n",
       "        [0., 0., 0., ..., 0., 0., 0.],\n",
       "        [0., 0., 0., ..., 0., 0., 0.]])"
      ]
     },
     "execution_count": 12,
     "metadata": {},
     "output_type": "execute_result"
    }
   ],
   "source": [
    "x_all = x_all/np.sqrt(np.sum(x_all.toarray()**2, axis=-1)).reshape(-1, 1)\n",
    "x_all"
   ]
  },
  {
   "cell_type": "code",
   "execution_count": 13,
   "metadata": {},
   "outputs": [],
   "source": [
    "from sklearn.model_selection import train_test_split\n",
    "\n",
    "x_train, x_val, y_train, y_val = train_test_split(x_all, train.author, test_size=0.2, random_state=42)"
   ]
  },
  {
   "cell_type": "code",
   "execution_count": 14,
   "metadata": {},
   "outputs": [
    {
     "data": {
      "text/plain": [
       "((15663, 25068), (3916, 25068))"
      ]
     },
     "execution_count": 14,
     "metadata": {},
     "output_type": "execute_result"
    }
   ],
   "source": [
    "x_train.shape, x_val.shape"
   ]
  },
  {
   "cell_type": "code",
   "execution_count": 15,
   "metadata": {},
   "outputs": [
    {
     "name": "stderr",
     "output_type": "stream",
     "text": [
      "c:\\users\\iddilov\\appdata\\local\\programs\\python\\python37\\lib\\site-packages\\sklearn\\linear_model\\_logistic.py:940: ConvergenceWarning: lbfgs failed to converge (status=1):\n",
      "STOP: TOTAL NO. of ITERATIONS REACHED LIMIT.\n",
      "\n",
      "Increase the number of iterations (max_iter) or scale the data as shown in:\n",
      "    https://scikit-learn.org/stable/modules/preprocessing.html\n",
      "Please also refer to the documentation for alternative solver options:\n",
      "    https://scikit-learn.org/stable/modules/linear_model.html#logistic-regression\n",
      "  extra_warning_msg=_LOGISTIC_SOLVER_CONVERGENCE_MSG)\n"
     ]
    },
    {
     "data": {
      "text/plain": [
       "LogisticRegression(C=1.0, class_weight=None, dual=False, fit_intercept=True,\n",
       "                   intercept_scaling=1, l1_ratio=None, max_iter=100,\n",
       "                   multi_class='auto', n_jobs=None, penalty='l2',\n",
       "                   random_state=None, solver='lbfgs', tol=0.0001, verbose=0,\n",
       "                   warm_start=False)"
      ]
     },
     "execution_count": 15,
     "metadata": {},
     "output_type": "execute_result"
    }
   ],
   "source": [
    "from sklearn.linear_model import LogisticRegression\n",
    "\n",
    "lr = LogisticRegression()\n",
    "lr.fit(x_train, y_train)"
   ]
  },
  {
   "cell_type": "code",
   "execution_count": 16,
   "metadata": {},
   "outputs": [
    {
     "name": "stdout",
     "output_type": "stream",
     "text": [
      "train log_loss = 0.3982996394590997\n",
      "log_loss = 0.5410314214059891\n",
      "accuracy = 0.8120531154239019\n"
     ]
    }
   ],
   "source": [
    "from sklearn import metrics\n",
    "\n",
    "y_pred = lr.predict_proba(x_train)\n",
    "print(f\"train log_loss = {metrics.log_loss(y_train, y_pred)}\")\n",
    "y_pred = lr.predict_proba(x_val)\n",
    "print(f\"log_loss = {metrics.log_loss(y_val, y_pred)}\")\n",
    "y_pred = lr.predict(x_val)\n",
    "print(f\"accuracy = {metrics.accuracy_score(y_val, y_pred)}\")"
   ]
  },
  {
   "cell_type": "code",
   "execution_count": 17,
   "metadata": {},
   "outputs": [
    {
     "data": {
      "text/plain": [
       "MultinomialNB(alpha=1.0, class_prior=None, fit_prior=True)"
      ]
     },
     "execution_count": 17,
     "metadata": {},
     "output_type": "execute_result"
    }
   ],
   "source": [
    "from sklearn.naive_bayes import MultinomialNB\n",
    "\n",
    "nb = MultinomialNB()\n",
    "nb.fit(x_train, y_train)"
   ]
  },
  {
   "cell_type": "code",
   "execution_count": 18,
   "metadata": {},
   "outputs": [
    {
     "name": "stdout",
     "output_type": "stream",
     "text": [
      "train log_loss = 0.4809467539837631\n",
      "log_loss = 0.6104175660117682\n",
      "accuracy = 0.8117977528089888\n"
     ]
    }
   ],
   "source": [
    "from sklearn import metrics\n",
    "\n",
    "y_pred = nb.predict_proba(x_train)\n",
    "print(f\"train log_loss = {metrics.log_loss(y_train, y_pred)}\")\n",
    "y_pred = nb.predict_proba(x_val)\n",
    "print(f\"log_loss = {metrics.log_loss(y_val, y_pred)}\")\n",
    "y_pred = nb.predict(x_val)\n",
    "print(f\"accuracy = {metrics.accuracy_score(y_val, y_pred)}\")"
   ]
  },
  {
   "cell_type": "code",
   "execution_count": 19,
   "metadata": {},
   "outputs": [
    {
     "data": {
      "text/plain": [
       "array([[1., 0., 0.],\n",
       "       [0., 1., 0.],\n",
       "       [0., 1., 0.],\n",
       "       [0., 1., 0.],\n",
       "       [0., 0., 1.]])"
      ]
     },
     "execution_count": 19,
     "metadata": {},
     "output_type": "execute_result"
    }
   ],
   "source": [
    "to_num = {'EAP':0, 'MWS':1, 'HPL':2}\n",
    "\n",
    "y_train = np.asarray([np.eye(3)[to_num[y]] for y in y_train])\n",
    "y_val = np.asarray([np.eye(3)[to_num[y]] for y in y_val])\n",
    "y_train[:5]"
   ]
  },
  {
   "cell_type": "code",
   "execution_count": 20,
   "metadata": {},
   "outputs": [
    {
     "name": "stdout",
     "output_type": "stream",
     "text": [
      "Model: \"sequential\"\n",
      "_________________________________________________________________\n",
      "Layer (type)                 Output Shape              Param #   \n",
      "=================================================================\n",
      "dense (Dense)                (None, 32)                802208    \n",
      "_________________________________________________________________\n",
      "dropout (Dropout)            (None, 32)                0         \n",
      "_________________________________________________________________\n",
      "dense_1 (Dense)              (None, 32)                1056      \n",
      "_________________________________________________________________\n",
      "dropout_1 (Dropout)          (None, 32)                0         \n",
      "_________________________________________________________________\n",
      "dense_2 (Dense)              (None, 3)                 99        \n",
      "=================================================================\n",
      "Total params: 803,363\n",
      "Trainable params: 803,363\n",
      "Non-trainable params: 0\n",
      "_________________________________________________________________\n"
     ]
    }
   ],
   "source": [
    "model = tf.keras.Sequential([\n",
    "    tf.keras.layers.Dense(32, input_shape=(x_train.shape[-1],), activation='relu'),\n",
    "    tf.keras.layers.Dropout(0.5),\n",
    "    tf.keras.layers.Dense(32, activation='relu'),\n",
    "    tf.keras.layers.Dropout(0.3),\n",
    "    tf.keras.layers.Dense(3, activation='softmax')\n",
    "])\n",
    "\n",
    "model.summary()"
   ]
  },
  {
   "cell_type": "code",
   "execution_count": 21,
   "metadata": {},
   "outputs": [
    {
     "name": "stdout",
     "output_type": "stream",
     "text": [
      "Train on 15663 samples, validate on 3916 samples\n",
      "Epoch 1/10\n",
      "15663/15663 [==============================] - 3s 164us/sample - loss: 1.0804 - categorical_crossentropy: 1.0804 - accuracy: 0.4053 - val_loss: 1.0422 - val_categorical_crossentropy: 1.0422 - val_accuracy: 0.4053\n",
      "Epoch 2/10\n",
      "15663/15663 [==============================] - 2s 111us/sample - loss: 0.9812 - categorical_crossentropy: 0.9812 - accuracy: 0.5517 - val_loss: 0.8881 - val_categorical_crossentropy: 0.8881 - val_accuracy: 0.7104\n",
      "Epoch 3/10\n",
      "15663/15663 [==============================] - 2s 99us/sample - loss: 0.7828 - categorical_crossentropy: 0.7828 - accuracy: 0.7523 - val_loss: 0.6714 - val_categorical_crossentropy: 0.6714 - val_accuracy: 0.8184\n",
      "Epoch 4/10\n",
      "15663/15663 [==============================] - 2s 99us/sample - loss: 0.5651 - categorical_crossentropy: 0.5651 - accuracy: 0.8399 - val_loss: 0.5156 - val_categorical_crossentropy: 0.5156 - val_accuracy: 0.8335\n",
      "Epoch 5/10\n",
      "15663/15663 [==============================] - 2s 98us/sample - loss: 0.4088 - categorical_crossentropy: 0.4088 - accuracy: 0.8815 - val_loss: 0.4420 - val_categorical_crossentropy: 0.4420 - val_accuracy: 0.8389\n",
      "Epoch 6/10\n",
      "15663/15663 [==============================] - 2s 99us/sample - loss: 0.3116 - categorical_crossentropy: 0.3116 - accuracy: 0.9125 - val_loss: 0.4110 - val_categorical_crossentropy: 0.4110 - val_accuracy: 0.8407\n",
      "Epoch 7/10\n",
      "15663/15663 [==============================] - 2s 99us/sample - loss: 0.2501 - categorical_crossentropy: 0.2501 - accuracy: 0.9302 - val_loss: 0.3978 - val_categorical_crossentropy: 0.3978 - val_accuracy: 0.8414\n",
      "Epoch 8/10\n",
      "15663/15663 [==============================] - 2s 98us/sample - loss: 0.2039 - categorical_crossentropy: 0.2039 - accuracy: 0.9445 - val_loss: 0.3954 - val_categorical_crossentropy: 0.3954 - val_accuracy: 0.8407\n",
      "Epoch 9/10\n",
      "15663/15663 [==============================] - 2s 101us/sample - loss: 0.1671 - categorical_crossentropy: 0.1671 - accuracy: 0.9558 - val_loss: 0.4005 - val_categorical_crossentropy: 0.4005 - val_accuracy: 0.8422\n",
      "Epoch 10/10\n",
      "15663/15663 [==============================] - 2s 97us/sample - loss: 0.1417 - categorical_crossentropy: 0.1417 - accuracy: 0.9628 - val_loss: 0.4091 - val_categorical_crossentropy: 0.4091 - val_accuracy: 0.8396\n"
     ]
    },
    {
     "data": {
      "text/plain": [
       "<tensorflow.python.keras.callbacks.History at 0x1f1c178a908>"
      ]
     },
     "execution_count": 21,
     "metadata": {},
     "output_type": "execute_result"
    }
   ],
   "source": [
    "model.compile(tf.keras.optimizers.Adam(1e-3), loss='categorical_crossentropy', metrics = ['categorical_crossentropy', 'accuracy'])\n",
    "\n",
    "model.fit(x_train, y_train, batch_size=512, epochs=10, validation_data=(x_val, y_val))"
   ]
  },
  {
   "cell_type": "code",
   "execution_count": 22,
   "metadata": {},
   "outputs": [],
   "source": [
    "# Както виждаме получаваме по-добър резултат с малко по-дълбока архитектура"
   ]
  },
  {
   "cell_type": "code",
   "execution_count": 23,
   "metadata": {},
   "outputs": [],
   "source": [
    "# Няколко думи за различен preprocessing\n",
    "# Stemming\n",
    "# Lemmatization\n",
    "# NE tagging\n",
    "# POS tagging"
   ]
  },
  {
   "cell_type": "markdown",
   "metadata": {},
   "source": [
    "# Word embeddings"
   ]
  },
  {
   "cell_type": "code",
   "execution_count": 24,
   "metadata": {},
   "outputs": [
    {
     "data": {
      "text/plain": [
       "[['This',\n",
       "  'process',\n",
       "  ',',\n",
       "  'however',\n",
       "  ',',\n",
       "  'afforded',\n",
       "  'me',\n",
       "  'no',\n",
       "  'means',\n",
       "  'of',\n",
       "  'ascertaining',\n",
       "  'the',\n",
       "  'dimensions',\n",
       "  'of',\n",
       "  'my',\n",
       "  'dungeon',\n",
       "  ';',\n",
       "  'as',\n",
       "  'I',\n",
       "  'might',\n",
       "  'make',\n",
       "  'its',\n",
       "  'circuit',\n",
       "  ',',\n",
       "  'and',\n",
       "  'return',\n",
       "  'to',\n",
       "  'the',\n",
       "  'point',\n",
       "  'whence',\n",
       "  'I',\n",
       "  'set',\n",
       "  'out',\n",
       "  ',',\n",
       "  'without',\n",
       "  'being',\n",
       "  'aware',\n",
       "  'of',\n",
       "  'the',\n",
       "  'fact',\n",
       "  ';',\n",
       "  'so',\n",
       "  'perfectly',\n",
       "  'uniform',\n",
       "  'seemed',\n",
       "  'the',\n",
       "  'wall',\n",
       "  '.'],\n",
       " ['It',\n",
       "  'never',\n",
       "  'once',\n",
       "  'occurred',\n",
       "  'to',\n",
       "  'me',\n",
       "  'that',\n",
       "  'the',\n",
       "  'fumbling',\n",
       "  'might',\n",
       "  'be',\n",
       "  'a',\n",
       "  'mere',\n",
       "  'mistake',\n",
       "  '.']]"
      ]
     },
     "execution_count": 24,
     "metadata": {},
     "output_type": "execute_result"
    }
   ],
   "source": [
    "word_data = [nltk.word_tokenize(x) for x in train.text]\n",
    "word_data[:2]"
   ]
  },
  {
   "cell_type": "code",
   "execution_count": 25,
   "metadata": {},
   "outputs": [
    {
     "name": "stdout",
     "output_type": "stream",
     "text": [
      "[24218, 20295, 13975, 6312, 13975]\n",
      "['This', 'process', ',', 'however', ',']\n"
     ]
    }
   ],
   "source": [
    "def get_num_data(data):\n",
    "    num2word = set()\n",
    "    for x in data:\n",
    "        for y in x:\n",
    "            num2word.add(y)\n",
    "    num2word = list(num2word)\n",
    "    word2num = {w:i for i,w in enumerate(num2word)}\n",
    "    new_data = []\n",
    "    for x in data:\n",
    "        new_data.append([])\n",
    "        for y in x:\n",
    "            new_data[-1].append(word2num[y])\n",
    "    return new_data, num2word, word2num\n",
    "\n",
    "num_data, num2word, word2num = get_num_data(word_data)\n",
    "print(num_data[0][:5])\n",
    "print([num2word[x] for x in num_data[0][:5]])"
   ]
  },
  {
   "cell_type": "code",
   "execution_count": 26,
   "metadata": {},
   "outputs": [
    {
     "data": {
      "text/plain": [
       "27752"
      ]
     },
     "execution_count": 26,
     "metadata": {},
     "output_type": "execute_result"
    }
   ],
   "source": [
    "len(num2word)"
   ]
  },
  {
   "cell_type": "code",
   "execution_count": 27,
   "metadata": {},
   "outputs": [],
   "source": [
    "skip = 3\n",
    "def prepare_training_data(data):\n",
    "    x, y = [], []\n",
    "    for d in data:\n",
    "        for i in range(skip, len(d)-skip):\n",
    "            x.append(d[i-skip:i] + d[i+1: i+skip+1])\n",
    "            y.append(d[i])\n",
    "    return np.array(x), np.array(y)\n",
    "\n",
    "x_embed, y_embed = prepare_training_data(num_data)"
   ]
  },
  {
   "cell_type": "code",
   "execution_count": 28,
   "metadata": {},
   "outputs": [
    {
     "name": "stdout",
     "output_type": "stream",
     "text": [
      "['This', 'process', ',', ',', 'afforded', 'me']\n",
      "however\n"
     ]
    }
   ],
   "source": [
    "print([num2word[x] for x in x_embed[0]])\n",
    "print(num2word[y_embed[0]])"
   ]
  },
  {
   "cell_type": "code",
   "execution_count": 29,
   "metadata": {},
   "outputs": [
    {
     "name": "stdout",
     "output_type": "stream",
     "text": [
      "Model: \"sequential_1\"\n",
      "_________________________________________________________________\n",
      "Layer (type)                 Output Shape              Param #   \n",
      "=================================================================\n",
      "embedding (Embedding)        (None, 6, 64)             1776128   \n",
      "_________________________________________________________________\n",
      "global_average_pooling1d (Gl (None, 64)                0         \n",
      "_________________________________________________________________\n",
      "dropout_2 (Dropout)          (None, 64)                0         \n",
      "_________________________________________________________________\n",
      "dense_3 (Dense)              (None, 27752)             1803880   \n",
      "=================================================================\n",
      "Total params: 3,580,008\n",
      "Trainable params: 3,580,008\n",
      "Non-trainable params: 0\n",
      "_________________________________________________________________\n"
     ]
    }
   ],
   "source": [
    "# CBOW model\n",
    "\n",
    "vocab_size = len(num2word)\n",
    "embedding_dim = 64\n",
    "\n",
    "embedding_model = tf.keras.Sequential([\n",
    "    tf.keras.layers.Embedding(vocab_size, embedding_dim, input_shape=(2*skip,)),\n",
    "    tf.keras.layers.GlobalAveragePooling1D(),\n",
    "    tf.keras.layers.Dropout(0.2),\n",
    "    tf.keras.layers.Dense(vocab_size)\n",
    "])\n",
    "\n",
    "embedding_model.summary()"
   ]
  },
  {
   "cell_type": "code",
   "execution_count": 30,
   "metadata": {},
   "outputs": [],
   "source": [
    "class PrintSim(tf.keras.callbacks.Callback):\n",
    "    def on_epoch_end(self, epoch, logs=None):\n",
    "        words = [\"the\", \"animal\", \"me\", \"like\", \"love\", \"ship\", \"walk\"]\n",
    "        weights = self.model.get_layer(index=0).get_weights()[0]\n",
    "        for w in words:\n",
    "            num = word2num[w]\n",
    "            sim = np.sum((weights - weights[num])**2, axis=-1)\n",
    "            closest = sim.argsort()[:10]\n",
    "            print(f\"closest to '{w}' are: {[num2word[x] for x in closest]}\")"
   ]
  },
  {
   "cell_type": "code",
   "execution_count": 31,
   "metadata": {},
   "outputs": [],
   "source": [
    "def loss(labels, logits):\n",
    "    return tf.keras.losses.sparse_categorical_crossentropy(labels, logits, from_logits=True)\n",
    "\n",
    "embedding_model.compile(optimizer=tf.keras.optimizers.Adam(), loss=loss)"
   ]
  },
  {
   "cell_type": "code",
   "execution_count": 32,
   "metadata": {},
   "outputs": [
    {
     "name": "stdout",
     "output_type": "stream",
     "text": [
      "Train on 429957 samples, validate on 47773 samples\n",
      "Epoch 1/5\n",
      "429312/429957 [============================>.] - ETA: 0s - loss: 7.1949closest to 'the' are: ['the', 'a', 'his', 'its', 'an', '.', 'my', 'any', 'our', 'this']\n",
      "closest to 'animal' are: ['animal', 'large', 'covered', 'Automaton', 'feeble', 'interior', 'flower', 'presence', 'rain', 'evidence']\n",
      "closest to 'me' are: ['me', 'be', 'him', 'enabled', 'recall', 'she', 'paid', 'they', 'described', 'Do']\n",
      "closest to 'like' are: ['like', 'Automaton', 'wondered', 'metal', 'remain', 'open', 'reached', 'opening', 'called', 'flower']\n",
      "closest to 'love' are: ['love', 'mouth', 'Lollipop', 'loved', 'entire', 'rather', 'east', 'purpose', 'misery', 'bed']\n",
      "closest to 'ship' are: ['ship', 'green', 'waters', 'breast', 'Greek', 'parts', 'storm', 'temple', 'weak', 'artist']\n",
      "closest to 'walk' are: ['walk', 'art', 'rank', 'breast', 'weak', 'walked', 'solitude', 'story', 'shut', 'born']\n",
      "429957/429957 [==============================] - 34s 79us/sample - loss: 7.1942 - val_loss: 6.7414\n",
      "Epoch 2/5\n",
      "429824/429957 [============================>.] - ETA: 0s - loss: 6.5892closest to 'the' are: ['the', 'a', 'his', 'an', 'its', 'some', 'those', 'our', 'any', 'their']\n",
      "closest to 'animal' are: ['animal', 'hem', 'grove', 'buckle', 'winds', 'Drum', 'rain', 'nearest', 'accent', 'stranger']\n",
      "closest to 'me' are: ['me', 'him', 'what', 'seemed', 'nothing', 'so', 'ever', 'enough', 'myself', 'no']\n",
      "closest to 'like' are: ['like', 'till', 'giver', 'guarding', 'versed', 'Islands', 'archway', 'producing', 'thickets', 'Caspian']\n",
      "closest to 'love' are: ['love', 'speech', 'fear', 'misery', 'means', 'habits', 'talked', 'despair', 'Paris', 'use']\n",
      "closest to 'ship' are: ['ship', 'sands', 'storm', 'shrank', 'members', 'slope', 'ravages', 'minutest', 'Greek', 'tempest']\n",
      "closest to 'walk' are: ['walk', 'preferred', 'endeavoured', 'solitude', 'probable', 'procured', 'project', 'struggle', 'add', 'demand']\n",
      "429957/429957 [==============================] - 34s 80us/sample - loss: 6.5891 - val_loss: 6.5630\n",
      "Epoch 3/5\n",
      "429312/429957 [============================>.] - ETA: 0s - loss: 6.4206closest to 'the' are: ['the', 'its', 'a', 'some', 'those', 'an', 'our', 'his', 'their', 'any']\n",
      "closest to 'animal' are: ['animal', 'opening', 'beach', 'lake', 'nearest', 'buckle', 'winds', 'bog', 'cemetery', 'stranger']\n",
      "closest to 'me' are: ['me', 'him', 'seemed', 'enough', 'us', 'them', 'myself', 'nothing', 'able', 'needless']\n",
      "closest to 'like' are: ['like', 'till', 'Pole', 'despite', 'pathless', 'throughout', 'untameable', 'downward', 'letting', 'whilst']\n",
      "closest to 'love' are: ['love', 'fear', 'talked', 'pain', 'talking', 'Paris', 'smiles', 'Italy', 'despair', 'sorrow']\n",
      "closest to 'ship' are: ['ship', 'fabric', 'soil', 'mosques', 'stream', 'twilight', 'august', 'tenth', 'subtle', 'woman']\n",
      "closest to 'walk' are: ['walk', 'declare', 'irksome', 'indulge', 'submit', 'remind', 'dwell', 'sympathize', 'morrow', 'ride']\n",
      "429957/429957 [==============================] - 34s 78us/sample - loss: 6.4205 - val_loss: 6.4803\n",
      "Epoch 4/5\n",
      "429824/429957 [============================>.] - ETA: 0s - loss: 6.3004closest to 'the' are: ['the', 'its', 'some', 'those', 'our', 'every', 'their', 'an', 'any', 'these']\n",
      "closest to 'animal' are: ['animal', \"N'bangus\", 'breeze', 'winds', 'casement', 'ramble', 'preparations', 'impediments', 'beach', 'nimbleness']\n",
      "closest to 'me' are: ['me', 'him', 'seemed', 'us', 'enough', 'them', 'go', 'needless', 'seem', 'himself']\n",
      "closest to 'like' are: ['like', 'scull', 'till', 'pathless', 'matchmen', 'hypocritical', 'Skai', 'whilst', 'letting', 'nauseous']\n",
      "closest to 'love' are: ['love', 'sickness', 'Italy', 'fear', 'despair', 'yours', 'pain', 'wretchedness', 'misery', 'dreamt']\n",
      "closest to 'ship' are: ['ship', 'stream', 'lowest', 'closes', 'guarding', 'twilight', 'fabric', 'subtle', 'august', 'flour']\n",
      "closest to 'walk' are: ['walk', 'submit', 'declare', 'retire', 'irksome', 'apologize', 'indulge', 'dwell', 'lead', 'sail']\n",
      "429957/429957 [==============================] - 34s 80us/sample - loss: 6.3003 - val_loss: 6.4102\n",
      "Epoch 5/5\n",
      "429568/429957 [============================>.] - ETA: 0s - loss: 6.1796closest to 'the' are: ['the', 'its', 'every', 'some', 'those', 'our', 'these', 'Eastern', 'flights', 'masses']\n",
      "closest to 'animal' are: ['animal', 'nimbleness', 'casement', \"N'bangus\", 'impediments', 'ramble', 'lamb', 'breeze', 'shutter', 'devil']\n",
      "closest to 'me' are: ['me', 'him', 'us', 'herself', 'them', 'enough', 'seem', 'cease', 'himself', 'needless']\n",
      "closest to 'like' are: ['like', 'weasel', 'producing', 'workman', 'Solomon', 'Through', 'scull', 'rectangle', 'observant', 'matchmen']\n",
      "closest to 'love' are: ['love', 'sickness', 'despair', 'aberration', 'distress', 'revenge', 'misery', 'paining', 'Elizabeth', 'fear']\n",
      "closest to 'ship' are: ['ship', 'guarding', 'tenantless', 'Top', 'gorge', 'Jew', 'shaft', 'twilight', 'disdained', 'diagnosis']\n",
      "closest to 'walk' are: ['walk', 'submit', 'retire', 'lead', 'sail', 'declare', 'ride', 'reference', 'revert', 'dwell']\n",
      "429957/429957 [==============================] - 34s 79us/sample - loss: 6.1792 - val_loss: 6.3432\n"
     ]
    },
    {
     "data": {
      "text/plain": [
       "<tensorflow.python.keras.callbacks.History at 0x1f4d5eb4a08>"
      ]
     },
     "execution_count": 32,
     "metadata": {},
     "output_type": "execute_result"
    }
   ],
   "source": [
    "embedding_model.fit(x_embed, y_embed, batch_size=256, epochs=5, validation_split=0.1, callbacks=[PrintSim()])"
   ]
  },
  {
   "cell_type": "code",
   "execution_count": 33,
   "metadata": {},
   "outputs": [
    {
     "data": {
      "text/plain": [
       "(27752, 64)"
      ]
     },
     "execution_count": 33,
     "metadata": {},
     "output_type": "execute_result"
    }
   ],
   "source": [
    "embedding_weights = embedding_model.get_layer(index=0).get_weights()[0]\n",
    "embedding_weights.shape"
   ]
  },
  {
   "cell_type": "code",
   "execution_count": 34,
   "metadata": {},
   "outputs": [
    {
     "data": {
      "text/plain": [
       "[',',\n",
       " 'the',\n",
       " 'of',\n",
       " '.',\n",
       " 'and',\n",
       " 'to',\n",
       " 'I',\n",
       " 'a',\n",
       " 'in',\n",
       " 'was',\n",
       " 'that',\n",
       " ';',\n",
       " 'my',\n",
       " 'had',\n",
       " 'with',\n",
       " 'it',\n",
       " 'his',\n",
       " 'as',\n",
       " 'he',\n",
       " 'not']"
      ]
     },
     "execution_count": 34,
     "metadata": {},
     "output_type": "execute_result"
    }
   ],
   "source": [
    "def get_words_sorted_by_usage():\n",
    "    cnt = np.zeros(vocab_size)\n",
    "    for s in num_data:\n",
    "        for x in s:\n",
    "            cnt[x]+=1\n",
    "    return cnt.argsort()[::-1]\n",
    "\n",
    "most_used = get_words_sorted_by_usage()\n",
    "[num2word[x] for x in most_used[:20]]"
   ]
  },
  {
   "cell_type": "code",
   "execution_count": 35,
   "metadata": {},
   "outputs": [
    {
     "data": {
      "text/plain": [
       "(100, 3)"
      ]
     },
     "execution_count": 35,
     "metadata": {},
     "output_type": "execute_result"
    }
   ],
   "source": [
    "data = embedding_weights[most_used[:100]]\n",
    "\n",
    "from sklearn.decomposition import PCA\n",
    "\n",
    "pca = PCA(n_components=3)\n",
    "\n",
    "pc = pca.fit_transform(data)\n",
    "pc.shape"
   ]
  },
  {
   "cell_type": "code",
   "execution_count": 36,
   "metadata": {},
   "outputs": [
    {
     "data": {
      "image/png": "[encoded data removed]",
      "text/plain": [
       "<Figure size 1080x1080 with 1 Axes>"
      ]
     },
     "metadata": {
      "needs_background": "light"
     },
     "output_type": "display_data"
    }
   ],
   "source": [
    "import matplotlib.pyplot as plt\n",
    "\n",
    "fig, ax = plt.subplots(figsize=(15, 15))\n",
    "\n",
    "ax.scatter(pc[:, 0], pc[:, 1], c=pc[:, 2])\n",
    "\n",
    "for i in range(pc.shape[0]):\n",
    "    ax.annotate(num2word[most_used[i]], (pc[i, 0], pc[i, 1]))\n",
    "    \n",
    "plt.show()"
   ]
  },
  {
   "cell_type": "code",
   "execution_count": 37,
   "metadata": {},
   "outputs": [],
   "source": [
    "def get_closest(v, n=5):\n",
    "    return np.sum((embedding_weights - v)**2, axis=-1).argsort()[:n]\n",
    "\n",
    "def arithmetic(words, weights, n=5):\n",
    "    v = np.zeros(embedding_dim)\n",
    "    for i in range(len(words)):\n",
    "        v += embedding_weights[word2num[words[i]]]*weights[i]\n",
    "    return [num2word[x] for x in get_closest(v, n)]"
   ]
  },
  {
   "cell_type": "code",
   "execution_count": 38,
   "metadata": {},
   "outputs": [
    {
     "data": {
      "text/plain": [
       "['palace', 'ferocity', 'moulding', 'floors', 'locking']"
      ]
     },
     "execution_count": 38,
     "metadata": {},
     "output_type": "execute_result"
    }
   ],
   "source": [
    "# Not enough text\n",
    "arithmetic([\"king\", \"woman\", \"man\"], [1, 1, -1])"
   ]
  },
  {
   "cell_type": "code",
   "execution_count": 39,
   "metadata": {},
   "outputs": [
    {
     "name": "stderr",
     "output_type": "stream",
     "text": [
      "\n"
     ]
    }
   ],
   "source": [
    "# Да вземем някъв предварително трениран embedding, за по-забавно на български\n",
    "\n",
    "import fasttext\n",
    "\n",
    "ft = fasttext.load_model('cc.bg.300.bin')"
   ]
  },
  {
   "cell_type": "code",
   "execution_count": 40,
   "metadata": {},
   "outputs": [],
   "source": [
    "bg_num2word = ft.words\n",
    "bg_word2num = {w:i for i,w in enumerate(bg_num2word)}"
   ]
  },
  {
   "cell_type": "code",
   "execution_count": 41,
   "metadata": {},
   "outputs": [],
   "source": [
    "bg_embed = np.zeros((len(bg_num2word), 300))"
   ]
  },
  {
   "cell_type": "code",
   "execution_count": 42,
   "metadata": {},
   "outputs": [],
   "source": [
    "for i, w in enumerate(bg_num2word):\n",
    "    bg_embed[i] = ft[w]"
   ]
  },
  {
   "cell_type": "code",
   "execution_count": 43,
   "metadata": {},
   "outputs": [],
   "source": [
    "del ft"
   ]
  },
  {
   "cell_type": "code",
   "execution_count": 44,
   "metadata": {},
   "outputs": [],
   "source": [
    "def get_closest_bg(v, n=5):\n",
    "    return np.sum((bg_embed - v)**2, axis=-1).argsort()[:n]\n",
    "\n",
    "def arithmetic_bg(words, weights, n=5):\n",
    "    v = np.zeros(300)\n",
    "    for i in range(len(words)):\n",
    "        v += bg_embed[bg_word2num[words[i]]]*weights[i]\n",
    "    return [bg_num2word[x] for x in get_closest_bg(v, n)]"
   ]
  },
  {
   "cell_type": "code",
   "execution_count": 45,
   "metadata": {},
   "outputs": [
    {
     "data": {
      "text/plain": [
       "['цар', 'царя', 'крал', 'царят', 'царете']"
      ]
     },
     "execution_count": 45,
     "metadata": {},
     "output_type": "execute_result"
    }
   ],
   "source": [
    "arithmetic_bg([\"цар\"], [1])"
   ]
  },
  {
   "cell_type": "code",
   "execution_count": 46,
   "metadata": {},
   "outputs": [
    {
     "data": {
      "text/plain": [
       "['цар', 'царица', 'царя', 'царете', 'царят']"
      ]
     },
     "execution_count": 46,
     "metadata": {},
     "output_type": "execute_result"
    }
   ],
   "source": [
    "arithmetic_bg([\"цар\", \"мъж\", \"жена\"], [1, -1, 1])"
   ]
  },
  {
   "cell_type": "code",
   "execution_count": 47,
   "metadata": {},
   "outputs": [
    {
     "data": {
      "text/plain": [
       "['Лондон', 'Париж', 'Франция', 'Англия', 'Лондон-']"
      ]
     },
     "execution_count": 47,
     "metadata": {},
     "output_type": "execute_result"
    }
   ],
   "source": [
    "arithmetic_bg([\"Лондон\", \"Великобритания\", \"Франция\"], [1, -1, 1])"
   ]
  },
  {
   "cell_type": "code",
   "execution_count": 48,
   "metadata": {},
   "outputs": [
    {
     "data": {
      "text/plain": [
       "['боза', 'боза.', 'бозата', 'сливова', 'ракийка']"
      ]
     },
     "execution_count": 48,
     "metadata": {},
     "output_type": "execute_result"
    }
   ],
   "source": [
    "arithmetic_bg([\"боза\", \"лош\", \"добър\"], [1, -1, 1])"
   ]
  },
  {
   "cell_type": "code",
   "execution_count": 49,
   "metadata": {},
   "outputs": [
    {
     "data": {
      "text/plain": [
       "['земя.', 'воине', 'воин.', 'земя-', 'воинът']"
      ]
     },
     "execution_count": 49,
     "metadata": {},
     "output_type": "execute_result"
    }
   ],
   "source": [
    "arithmetic_bg([\"воин\", \"земя\"], [0.5, 0.5])"
   ]
  },
  {
   "cell_type": "markdown",
   "metadata": {},
   "source": [
    "# Да видим и един 1D CNN"
   ]
  },
  {
   "cell_type": "code",
   "execution_count": 50,
   "metadata": {},
   "outputs": [
    {
     "data": {
      "text/plain": [
       "19579"
      ]
     },
     "execution_count": 50,
     "metadata": {},
     "output_type": "execute_result"
    }
   ],
   "source": [
    "len(num_data)"
   ]
  },
  {
   "cell_type": "code",
   "execution_count": 51,
   "metadata": {},
   "outputs": [
    {
     "data": {
      "text/plain": [
       "876"
      ]
     },
     "execution_count": 51,
     "metadata": {},
     "output_type": "execute_result"
    }
   ],
   "source": [
    "max([len(x) for x in num_data])"
   ]
  },
  {
   "cell_type": "code",
   "execution_count": 52,
   "metadata": {},
   "outputs": [
    {
     "data": {
      "text/plain": [
       "array([[24218., 20295., 13975., ..., 27752., 27752., 27752.],\n",
       "       [ 3056., 18067.,  2516., ..., 27752., 27752., 27752.],\n",
       "       [23024., 27285.,  7817., ..., 27752., 27752., 27752.],\n",
       "       ...,\n",
       "       [ 5590.,  4100., 14093., ..., 27752., 27752., 27752.],\n",
       "       [15001., 22375.,  7533., ..., 27752., 27752., 27752.],\n",
       "       [ 3199., 14481., 10664., ..., 27752., 27752., 27752.]])"
      ]
     },
     "execution_count": 52,
     "metadata": {},
     "output_type": "execute_result"
    }
   ],
   "source": [
    "num_x = np.ones((len(num_data), max([len(x) for x in num_data])))*vocab_size\n",
    "for i in range(len(num_data)):\n",
    "    num_x[i, :len(num_data[i])] = num_data[i]\n",
    "    \n",
    "num_x"
   ]
  },
  {
   "cell_type": "code",
   "execution_count": 53,
   "metadata": {},
   "outputs": [
    {
     "data": {
      "text/plain": [
       "(19579, 3)"
      ]
     },
     "execution_count": 53,
     "metadata": {},
     "output_type": "execute_result"
    }
   ],
   "source": [
    "to_num = {'EAP':0, 'MWS':1, 'HPL':2}\n",
    "num_y = np.eye(3)[np.array([to_num[x] for x in train.author])]\n",
    "num_y.shape"
   ]
  },
  {
   "cell_type": "code",
   "execution_count": 54,
   "metadata": {},
   "outputs": [
    {
     "name": "stdout",
     "output_type": "stream",
     "text": [
      "Model: \"sequential_2\"\n",
      "_________________________________________________________________\n",
      "Layer (type)                 Output Shape              Param #   \n",
      "=================================================================\n",
      "embedding_1 (Embedding)      (None, None, 64)          1776192   \n",
      "_________________________________________________________________\n",
      "dropout_3 (Dropout)          (None, None, 64)          0         \n",
      "_________________________________________________________________\n",
      "conv1d (Conv1D)              (None, None, 32)          10272     \n",
      "_________________________________________________________________\n",
      "conv1d_1 (Conv1D)            (None, None, 64)          6208      \n",
      "_________________________________________________________________\n",
      "global_max_pooling1d (Global (None, 64)                0         \n",
      "_________________________________________________________________\n",
      "dense_4 (Dense)              (None, 3)                 195       \n",
      "=================================================================\n",
      "Total params: 1,792,867\n",
      "Trainable params: 1,792,867\n",
      "Non-trainable params: 0\n",
      "_________________________________________________________________\n"
     ]
    }
   ],
   "source": [
    "model = tf.keras.Sequential([\n",
    "    tf.keras.layers.Embedding(vocab_size+1, embedding_dim, input_shape=(None,)),\n",
    "    tf.keras.layers.Dropout(0.2),\n",
    "    tf.keras.layers.Conv1D(32, 5, activation='relu'),\n",
    "    tf.keras.layers.Conv1D(64, 3, dilation_rate=2, activation='relu'),\n",
    "    tf.keras.layers.GlobalMaxPooling1D(),\n",
    "    tf.keras.layers.Dense(3, activation='softmax')\n",
    "])\n",
    "\n",
    "model.summary()"
   ]
  },
  {
   "cell_type": "code",
   "execution_count": 55,
   "metadata": {},
   "outputs": [
    {
     "name": "stdout",
     "output_type": "stream",
     "text": [
      "Train on 17621 samples, validate on 1958 samples\n",
      "Epoch 1/10\n",
      "17621/17621 [==============================] - 11s 650us/sample - loss: 0.8403 - categorical_crossentropy: 0.8403 - accuracy: 0.5949 - val_loss: 0.5508 - val_categorical_crossentropy: 0.5508 - val_accuracy: 0.7829\n",
      "Epoch 2/10\n",
      "17621/17621 [==============================] - 8s 479us/sample - loss: 0.3332 - categorical_crossentropy: 0.3332 - accuracy: 0.8743 - val_loss: 0.4661 - val_categorical_crossentropy: 0.4661 - val_accuracy: 0.8192\n",
      "Epoch 3/10\n",
      "17621/17621 [==============================] - 8s 479us/sample - loss: 0.1446 - categorical_crossentropy: 0.1446 - accuracy: 0.9505 - val_loss: 0.5319 - val_categorical_crossentropy: 0.5319 - val_accuracy: 0.8202\n",
      "Epoch 4/10\n",
      "17621/17621 [==============================] - 9s 497us/sample - loss: 0.0717 - categorical_crossentropy: 0.0717 - accuracy: 0.9759 - val_loss: 0.6401 - val_categorical_crossentropy: 0.6401 - val_accuracy: 0.8177\n",
      "Epoch 5/10\n",
      "17621/17621 [==============================] - 9s 497us/sample - loss: 0.0386 - categorical_crossentropy: 0.0386 - accuracy: 0.9880 - val_loss: 0.7350 - val_categorical_crossentropy: 0.7350 - val_accuracy: 0.8177\n",
      "Epoch 6/10\n",
      "17621/17621 [==============================] - 9s 502us/sample - loss: 0.0234 - categorical_crossentropy: 0.0234 - accuracy: 0.9928 - val_loss: 0.8277 - val_categorical_crossentropy: 0.8277 - val_accuracy: 0.8115\n",
      "Epoch 7/10\n",
      "17621/17621 [==============================] - 9s 482us/sample - loss: 0.0141 - categorical_crossentropy: 0.0141 - accuracy: 0.9961 - val_loss: 0.9327 - val_categorical_crossentropy: 0.9327 - val_accuracy: 0.8126\n",
      "Epoch 8/10\n",
      "17621/17621 [==============================] - 8s 463us/sample - loss: 0.0109 - categorical_crossentropy: 0.0109 - accuracy: 0.9968 - val_loss: 1.0026 - val_categorical_crossentropy: 1.0026 - val_accuracy: 0.8095\n",
      "Epoch 9/10\n",
      "17621/17621 [==============================] - 8s 454us/sample - loss: 0.0079 - categorical_crossentropy: 0.0079 - accuracy: 0.9978 - val_loss: 1.1331 - val_categorical_crossentropy: 1.1331 - val_accuracy: 0.7998\n",
      "Epoch 10/10\n",
      "17621/17621 [==============================] - 8s 457us/sample - loss: 0.0062 - categorical_crossentropy: 0.0062 - accuracy: 0.9978 - val_loss: 1.1875 - val_categorical_crossentropy: 1.1875 - val_accuracy: 0.8023\n"
     ]
    },
    {
     "data": {
      "text/plain": [
       "<tensorflow.python.keras.callbacks.History at 0x1f4d7f8ee08>"
      ]
     },
     "execution_count": 55,
     "metadata": {},
     "output_type": "execute_result"
    }
   ],
   "source": [
    "model.compile(tf.keras.optimizers.Adam(1e-3), loss='categorical_crossentropy', metrics = ['categorical_crossentropy', 'accuracy'])\n",
    "\n",
    "model.fit(num_x, num_y, batch_size=64, epochs=10, validation_split=0.1)"
   ]
  },
  {
   "cell_type": "code",
   "execution_count": 57,
   "metadata": {},
   "outputs": [
    {
     "name": "stdout",
     "output_type": "stream",
     "text": [
      "Model: \"sequential_3\"\n",
      "_________________________________________________________________\n",
      "Layer (type)                 Output Shape              Param #   \n",
      "=================================================================\n",
      "embedding_2 (Embedding)      (None, None, 64)          1776192   \n",
      "_________________________________________________________________\n",
      "dropout_4 (Dropout)          (None, None, 64)          0         \n",
      "_________________________________________________________________\n",
      "conv1d_2 (Conv1D)            (None, None, 32)          10272     \n",
      "_________________________________________________________________\n",
      "conv1d_3 (Conv1D)            (None, None, 64)          6208      \n",
      "_________________________________________________________________\n",
      "global_max_pooling1d_1 (Glob (None, 64)                0         \n",
      "_________________________________________________________________\n",
      "dense_5 (Dense)              (None, 32)                2080      \n",
      "_________________________________________________________________\n",
      "dense_6 (Dense)              (None, 3)                 99        \n",
      "=================================================================\n",
      "Total params: 1,794,851\n",
      "Trainable params: 18,659\n",
      "Non-trainable params: 1,776,192\n",
      "_________________________________________________________________\n"
     ]
    }
   ],
   "source": [
    "embed_init = np.vstack([embedding_weights, np.zeros(embedding_dim)])\n",
    "\n",
    "model_pre = tf.keras.Sequential([\n",
    "    tf.keras.layers.Embedding(\n",
    "        vocab_size+1, \n",
    "        embedding_dim, \n",
    "        input_shape=(None,),\n",
    "        embeddings_initializer = tf.constant_initializer(embed_init),\n",
    "        trainable = False\n",
    "    ),\n",
    "    tf.keras.layers.Dropout(0.2),\n",
    "    tf.keras.layers.Conv1D(32, 5, activation='relu'),\n",
    "    tf.keras.layers.Conv1D(64, 3, dilation_rate=2, activation='relu'),\n",
    "    tf.keras.layers.GlobalMaxPooling1D(),\n",
    "    tf.keras.layers.Dense(32, activation='relu'),\n",
    "    tf.keras.layers.Dense(3, activation='softmax')\n",
    "])\n",
    "\n",
    "model_pre.summary()"
   ]
  },
  {
   "cell_type": "code",
   "execution_count": 58,
   "metadata": {},
   "outputs": [
    {
     "name": "stdout",
     "output_type": "stream",
     "text": [
      "Train on 17621 samples, validate on 1958 samples\n",
      "Epoch 1/10\n",
      "17621/17621 [==============================] - 5s 271us/sample - loss: 0.9858 - categorical_crossentropy: 0.9858 - accuracy: 0.5079 - val_loss: 0.9191 - val_categorical_crossentropy: 0.9191 - val_accuracy: 0.5598\n",
      "Epoch 2/10\n",
      "17621/17621 [==============================] - 4s 242us/sample - loss: 0.8726 - categorical_crossentropy: 0.8726 - accuracy: 0.6005 - val_loss: 0.8303 - val_categorical_crossentropy: 0.8303 - val_accuracy: 0.6267\n",
      "Epoch 3/10\n",
      "17621/17621 [==============================] - 4s 240us/sample - loss: 0.8212 - categorical_crossentropy: 0.8212 - accuracy: 0.6296 - val_loss: 0.8482 - val_categorical_crossentropy: 0.8482 - val_accuracy: 0.6175\n",
      "Epoch 4/10\n",
      "17621/17621 [==============================] - 4s 240us/sample - loss: 0.7905 - categorical_crossentropy: 0.7905 - accuracy: 0.6479 - val_loss: 0.7801 - val_categorical_crossentropy: 0.7801 - val_accuracy: 0.6599\n",
      "Epoch 5/10\n",
      "17621/17621 [==============================] - 4s 239us/sample - loss: 0.7674 - categorical_crossentropy: 0.7674 - accuracy: 0.6586 - val_loss: 0.7782 - val_categorical_crossentropy: 0.7782 - val_accuracy: 0.6604\n",
      "Epoch 6/10\n",
      "17621/17621 [==============================] - 4s 242us/sample - loss: 0.7432 - categorical_crossentropy: 0.7432 - accuracy: 0.6744 - val_loss: 0.7691 - val_categorical_crossentropy: 0.7691 - val_accuracy: 0.6619\n",
      "Epoch 7/10\n",
      "17621/17621 [==============================] - 4s 235us/sample - loss: 0.7279 - categorical_crossentropy: 0.7279 - accuracy: 0.6813 - val_loss: 0.7542 - val_categorical_crossentropy: 0.7542 - val_accuracy: 0.6645\n",
      "Epoch 8/10\n",
      "17621/17621 [==============================] - 4s 239us/sample - loss: 0.7165 - categorical_crossentropy: 0.7165 - accuracy: 0.6890 - val_loss: 0.7728 - val_categorical_crossentropy: 0.7728 - val_accuracy: 0.6593\n",
      "Epoch 9/10\n",
      "17621/17621 [==============================] - 4s 243us/sample - loss: 0.7051 - categorical_crossentropy: 0.7051 - accuracy: 0.6926 - val_loss: 0.7584 - val_categorical_crossentropy: 0.7584 - val_accuracy: 0.6588\n",
      "Epoch 10/10\n",
      "17621/17621 [==============================] - 4s 231us/sample - loss: 0.6887 - categorical_crossentropy: 0.6887 - accuracy: 0.7001 - val_loss: 0.7649 - val_categorical_crossentropy: 0.7649 - val_accuracy: 0.6665\n"
     ]
    },
    {
     "data": {
      "text/plain": [
       "<tensorflow.python.keras.callbacks.History at 0x1f4d97234c8>"
      ]
     },
     "execution_count": 58,
     "metadata": {},
     "output_type": "execute_result"
    }
   ],
   "source": [
    "model_pre.compile(tf.keras.optimizers.Adam(1e-3), loss='categorical_crossentropy', metrics = ['categorical_crossentropy', 'accuracy'])\n",
    "\n",
    "model_pre.fit(num_x, num_y, batch_size=64, epochs=10, validation_split=0.1)"
   ]
  },
  {
   "cell_type": "code",
   "execution_count": null,
   "metadata": {},
   "outputs": [],
   "source": []
  }
 ],
 "metadata": {
  "kernelspec": {
   "display_name": "Python 3",
   "language": "python",
   "name": "python3"
  },
  "language_info": {
   "codemirror_mode": {
    "name": "ipython",
    "version": 3
   },
   "file_extension": ".py",
   "mimetype": "text/x-python",
   "name": "python",
   "nbconvert_exporter": "python",
   "pygments_lexer": "ipython3",
   "version": "3.7.6"
  }
 },
 "nbformat": 4,
 "nbformat_minor": 4
}
